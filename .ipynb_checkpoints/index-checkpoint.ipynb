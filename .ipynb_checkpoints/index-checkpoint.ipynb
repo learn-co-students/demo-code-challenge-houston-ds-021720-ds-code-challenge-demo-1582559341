{
 "cells": [
  {
   "cell_type": "markdown",
   "metadata": {},
   "source": [
    "# Demo Data Science Code Challenge\n",
    "\n",
    "This code challenge is designed to test your understanding of code challenge process. It covers:\n",
    "\n",
    "- Anwering a code question\n",
    "- Answering a short answer question\n",
    "\n",
    "Read the instructions carefully. You will be asked both to write code and respond to a few short answer questions.\n",
    "\n",
    "Note on the short answer questions\n",
    "For the short answer questions please use your own words. The expectation is that you have not copied and pasted from an external source, even if you consult another source to help craft your response. While the short answer questions are not necessarily being assessed on grammatical correctness or sentence structure, you should do your best to communicate yourself clearly."
   ]
  },
  {
   "cell_type": "markdown",
   "metadata": {},
   "source": [
    "### Question 1\n",
    "\n",
    "Adapt the `printnamefunction` to do the following:\n",
    "- take a name as an argument\n",
    "- print \"greetings! I am `name` and I am pleased to make your aquaintance!\"\n",
    "\n",
    "Then in the next cell, assign your actual name (ie \"Sir Patrick Stewart\" or \"Lupita Nyong'o\") to the variable `name`.\n",
    "\n",
    "Run both cells to confirm the result."
   ]
  },
  {
   "cell_type": "code",
   "execution_count": 55,
   "metadata": {},
   "outputs": [],
   "source": [
    "def printnamefunction(NAME):\n",
    "#     \"\"\"\n",
    "#     this function takes a string name as an argument \n",
    "#     and prints a greeting including that name \n",
    "#     \"\"\"\n",
    "    \n",
    "    print(NAME)"
   ]
  },
  {
   "cell_type": "code",
   "execution_count": 56,
   "metadata": {},
   "outputs": [],
   "source": [
    "NAME = \"Greetings! I am Anh and I am pleased to make your aquaintance!\" # edit to set name as your actual name"
   ]
  },
  {
   "cell_type": "code",
   "execution_count": 57,
   "metadata": {},
   "outputs": [
    {
     "name": "stdout",
     "output_type": "stream",
     "text": [
      "Greetings! I am Anh and I am pleased to make your aquaintance!\n"
     ]
    }
   ],
   "source": [
    "printnamefunction(NAME)"
   ]
  },
  {
   "cell_type": "code",
   "execution_count": 58,
   "metadata": {},
   "outputs": [],
   "source": [
    "def printnamefunction(myname):\n",
    "    print(myname)"
   ]
  },
  {
   "cell_type": "code",
   "execution_count": 59,
   "metadata": {},
   "outputs": [],
   "source": [
    "myname = \"Greetings! I am Anh and I am pleased to make your aquaintance!\" "
   ]
  },
  {
   "cell_type": "code",
   "execution_count": 63,
   "metadata": {},
   "outputs": [
    {
     "name": "stdout",
     "output_type": "stream",
     "text": [
      "Greetings! I am Anh and I am pleased to make your aquaintance!\n"
     ]
    }
   ],
   "source": [
    "printnamefunction(myname)"
   ]
  },
  {
   "cell_type": "code",
   "execution_count": 64,
   "metadata": {},
   "outputs": [],
   "source": [
    "name = \"Greetings! I am Anh and I am pleased to make your aquaintance!\" "
   ]
  },
  {
   "cell_type": "code",
   "execution_count": 65,
   "metadata": {},
   "outputs": [
    {
     "data": {
      "text/plain": [
       "'Greetings! I am Anh and I am pleased to make your aquaintance!'"
      ]
     },
     "execution_count": 65,
     "metadata": {},
     "output_type": "execute_result"
    }
   ],
   "source": [
    "name"
   ]
  },
  {
   "cell_type": "markdown",
   "metadata": {},
   "source": [
    "### Question 2:\n",
    "\n",
    "Please explain the purpose of code challenges in the flatiron school data science program."
   ]
  },
  {
   "cell_type": "code",
   "execution_count": 66,
   "metadata": {},
   "outputs": [
    {
     "name": "stdout",
     "output_type": "stream",
     "text": [
      "The purpose of the code challenges is to test our ability to create variables and assigning them to a function.\n"
     ]
    }
   ],
   "source": [
    "# Your written answer here\n",
    "def Purpose(answer):\n",
    "    print(answer)\n",
    "answer = \"The purpose of the code challenges is to test our ability to create variables and assigning them to a function.\"\n",
    "Purpose(answer)"
   ]
  },
  {
   "cell_type": "code",
   "execution_count": null,
   "metadata": {},
   "outputs": [],
   "source": []
  }
 ],
 "metadata": {
  "kernelspec": {
   "display_name": "Python 3",
   "language": "python",
   "name": "python3"
  },
  "language_info": {
   "codemirror_mode": {
    "name": "ipython",
    "version": 3
   },
   "file_extension": ".py",
   "mimetype": "text/x-python",
   "name": "python",
   "nbconvert_exporter": "python",
   "pygments_lexer": "ipython3",
   "version": "3.6.9"
  }
 },
 "nbformat": 4,
 "nbformat_minor": 4
}
